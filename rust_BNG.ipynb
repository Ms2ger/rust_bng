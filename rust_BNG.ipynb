{
 "cells": [
  {
   "cell_type": "markdown",
   "metadata": {},
   "source": [
    "### Using an external Rust library to speed up lon, lat to [BNG](https://en.wikipedia.org/wiki/Ordnance_Survey_National_Grid) conversion"
   ]
  },
  {
   "cell_type": "code",
   "execution_count": 74,
   "metadata": {
    "collapsed": true
   },
   "outputs": [],
   "source": [
    "import numpy as np\n",
    "import pandas as pd\n",
    "import math\n",
    "from ctypes import cdll, c_float, Structure, ARRAY, c_int32\n",
    "from sys import platform\n",
    "from bng import bng\n",
    "import pyproj"
   ]
  },
  {
   "cell_type": "code",
   "execution_count": 63,
   "metadata": {
    "collapsed": true
   },
   "outputs": [],
   "source": [
    "if platform == \"darwin\":\n",
    "    ext = \"dylib\"\n",
    "else:\n",
    "    ext = \"so\""
   ]
  },
  {
   "cell_type": "markdown",
   "metadata": {},
   "source": [
    "### Setting up the Rust library. See [here](https://github.com/alexcrichton/rust-ffi-examples/tree/master/python-to-rust) for more"
   ]
  },
  {
   "cell_type": "markdown",
   "metadata": {},
   "source": [
    "Ensure you've built your Rust library using `cargo build --release`, or the next step will fail."
   ]
  },
  {
   "cell_type": "code",
   "execution_count": 70,
   "metadata": {
    "collapsed": true
   },
   "outputs": [],
   "source": [
    "# hacky: http://stackoverflow.com/a/30789980/416626\n",
    "class Int32_2(Structure):\n",
    "    _fields_ = [(\"array\", ARRAY(c_int32, 2))]\n",
    "\n",
    "lib = cdll.LoadLibrary('target/release/liblonlat_bng.' + ext)\n",
    "rust_bng = lib.convert\n",
    "rust_bng.restype = Int32_2"
   ]
  },
  {
   "cell_type": "markdown",
   "metadata": {},
   "source": [
    "### Simple test of average conversion speed, Python version"
   ]
  },
  {
   "cell_type": "code",
   "execution_count": 67,
   "metadata": {
    "collapsed": false
   },
   "outputs": [
    {
     "name": "stdout",
     "output_type": "stream",
     "text": [
      "10000 loops, best of 10: 31 µs per loop\n"
     ]
    }
   ],
   "source": [
    "%%timeit -r 10\n",
    "bng(\n",
    "    51.44533267, -0.32824866)"
   ]
  },
  {
   "cell_type": "markdown",
   "metadata": {},
   "source": [
    "### Simple test of average conversion speed, Rust 1.0 version"
   ]
  },
  {
   "cell_type": "code",
   "execution_count": 71,
   "metadata": {
    "collapsed": false
   },
   "outputs": [
    {
     "name": "stdout",
     "output_type": "stream",
     "text": [
      "The slowest run took 499.16 times longer than the fastest. This could mean that an intermediate result is being cached \n",
      "100000 loops, best of 10: 2.04 µs per loop\n"
     ]
    }
   ],
   "source": [
    "%%timeit -r 10\n",
    "rust_bng(\n",
    "    c_float(-0.32824866), c_float(51.44533267))"
   ]
  },
  {
   "cell_type": "code",
   "execution_count": 2,
   "metadata": {
    "collapsed": true
   },
   "outputs": [],
   "source": [
    "# UK bounding box\n",
    "N = 55.811741,\n",
    "E = 1.768960\n",
    "S = 49.871159, \n",
    "W = -6.379880"
   ]
  },
  {
   "cell_type": "markdown",
   "metadata": {},
   "source": [
    "### A slightly more realistic test, 100k random points within the UK"
   ]
  },
  {
   "cell_type": "code",
   "execution_count": 8,
   "metadata": {
    "collapsed": true
   },
   "outputs": [],
   "source": [
    "df = pd.DataFrame({\n",
    "        'lon': np.random.uniform(W, E, [100000]),\n",
    "        'lat': np.random.uniform(N, S, [100000])})"
   ]
  },
  {
   "cell_type": "code",
   "execution_count": 56,
   "metadata": {
    "collapsed": false
   },
   "outputs": [
    {
     "name": "stdout",
     "output_type": "stream",
     "text": [
      "1 loops, best of 10: 6.08 s per loop\n"
     ]
    }
   ],
   "source": [
    "%%timeit -r 10\n",
    "eastings_northings = df.apply(\n",
    "    lambda x: bng(x['lat'], x['lon']),\n",
    "    axis=1)"
   ]
  },
  {
   "cell_type": "code",
   "execution_count": 72,
   "metadata": {
    "collapsed": false
   },
   "outputs": [
    {
     "name": "stdout",
     "output_type": "stream",
     "text": [
      "1 loops, best of 10: 3.3 s per loop\n"
     ]
    }
   ],
   "source": [
    "%%timeit -r 10\n",
    "rust_eastings_northings = df.apply(\n",
    "    lambda x: rust_bng(c_float(x['lon']), c_float(x['lat'])),\n",
    "    axis=1)"
   ]
  },
  {
   "cell_type": "markdown",
   "metadata": {},
   "source": [
    "### So far: around a 15x improvement on the simple test, around 2x on the \"realistic\" test"
   ]
  },
  {
   "cell_type": "code",
   "execution_count": 77,
   "metadata": {
    "collapsed": false
   },
   "outputs": [],
   "source": [
    "bng = pyproj.Proj(init='epsg:27700')\n",
    "wgs84 = pyproj.Proj(init='epsg:4326')"
   ]
  },
  {
   "cell_type": "code",
   "execution_count": 78,
   "metadata": {
    "collapsed": false
   },
   "outputs": [
    {
     "name": "stdout",
     "output_type": "stream",
     "text": [
      "The slowest run took 5.49 times longer than the fastest. This could mean that an intermediate result is being cached \n",
      "100000 loops, best of 10: 11.8 µs per loop\n"
     ]
    }
   ],
   "source": [
    "%%timeit -r 10\n",
    "pyproj.transform(wgs84, bng, -0.32824866, 51.44533267)"
   ]
  },
  {
   "cell_type": "code",
   "execution_count": null,
   "metadata": {
    "collapsed": true
   },
   "outputs": [],
   "source": []
  }
 ],
 "metadata": {
  "kernelspec": {
   "display_name": "Python 2",
   "language": "python",
   "name": "python2"
  },
  "language_info": {
   "codemirror_mode": {
    "name": "ipython",
    "version": 2
   },
   "file_extension": ".py",
   "mimetype": "text/x-python",
   "name": "python",
   "nbconvert_exporter": "python",
   "pygments_lexer": "ipython2",
   "version": "2.7.9"
  }
 },
 "nbformat": 4,
 "nbformat_minor": 0
}
