{
 "cells": [
  {
   "cell_type": "markdown",
   "metadata": {},
   "source": [
    "### Using an external Rust library to speed up lon, lat to [BNG](https://en.wikipedia.org/wiki/Ordnance_Survey_National_Grid) conversion"
   ]
  },
  {
   "cell_type": "code",
   "execution_count": 7,
   "metadata": {
    "collapsed": false
   },
   "outputs": [],
   "source": [
    "import numpy as np\n",
    "import pandas as pd\n",
    "import math\n",
    "from ctypes import cdll, c_float, Structure, ARRAY, POINTER, c_int32, c_uint32, c_size_t, c_void_p, cast\n",
    "from sys import platform\n",
    "from bng import bng\n",
    "import pyproj"
   ]
  },
  {
   "cell_type": "code",
   "execution_count": 8,
   "metadata": {
    "collapsed": true
   },
   "outputs": [],
   "source": [
    "    if platform == \"darwin\":\n",
    "        ext = \"dylib\"\n",
    "    else:\n",
    "        ext = \"so\""
   ]
  },
  {
   "cell_type": "markdown",
   "metadata": {},
   "source": [
    "### Setting up the Rust library. See [here](https://github.com/alexcrichton/rust-ffi-examples/tree/master/python-to-rust) for more"
   ]
  },
  {
   "cell_type": "markdown",
   "metadata": {},
   "source": [
    "Ensure you've built your Rust library using `cargo build --release`, or the next step will fail."
   ]
  },
  {
   "cell_type": "code",
   "execution_count": 9,
   "metadata": {
    "collapsed": false
   },
   "outputs": [],
   "source": [
    "lib = cdll.LoadLibrary('target/release/liblonlat_bng.' + ext)\n",
    "\n",
    "\n",
    "class FFITuple(Structure):\n",
    "    _fields_ = [(\"a\", c_uint32),\n",
    "                (\"b\", c_uint32)]\n",
    "\n",
    "class FFIArray(Structure):\n",
    "    _fields_ = [(\"data\", c_void_p),\n",
    "                (\"len\", c_size_t)]\n",
    "\n",
    "    # Allow implicit conversions from a sequence of 32-bit unsigned\n",
    "    # integers.\n",
    "    @classmethod\n",
    "    def from_param(cls, seq):\n",
    "        return seq if isinstance(seq, cls) else cls(seq)\n",
    "\n",
    "    # Wrap sequence of values. You can specify another type besides a\n",
    "    # 32-bit unsigned integer.\n",
    "    def __init__(self, seq, data_type = c_float):\n",
    "        array_type = data_type * len(seq)\n",
    "        raw_seq = array_type(*seq)\n",
    "        self.data = cast(raw_seq, c_void_p)\n",
    "        self.len = len(seq)\n",
    "\n",
    "# A conversion function that cleans up the result value to make it\n",
    "# nicer to consume.\n",
    "def void_array_to_tuple_list(array, _func, _args):\n",
    "    return cast(array.data, POINTER(FFITuple * array.len))[0]\n",
    "\n",
    "convert_vec = lib.convert_vec_c_threaded\n",
    "convert_vec.argtypes = (FFIArray, FFIArray)\n",
    "convert_vec.restype = FFIArray\n",
    "convert_vec.errcheck = void_array_to_tuple_list\n",
    "\n",
    "def convertbng_list(lons, lats):\n",
    "    return [(i.a, i.b) for i in iter(convert_vec(lons, lats))]"
   ]
  },
  {
   "cell_type": "code",
   "execution_count": 6,
   "metadata": {
    "collapsed": false
   },
   "outputs": [
    {
     "data": {
      "text/plain": [
       "[(516276L, 173141L)]"
      ]
     },
     "execution_count": 6,
     "metadata": {},
     "output_type": "execute_result"
    }
   ],
   "source": [
    "baz = convert_vec([-0.32824866], [51.44533267])\n",
    "[(i.a, i.b) for i in iter(baz)]"
   ]
  },
  {
   "cell_type": "markdown",
   "metadata": {},
   "source": [
    "### Simple test of average conversion speed, Python version"
   ]
  },
  {
   "cell_type": "code",
   "execution_count": 5,
   "metadata": {
    "collapsed": false
   },
   "outputs": [
    {
     "name": "stdout",
     "output_type": "stream",
     "text": [
      "10000 loops, best of 10: 24.1 µs per loop\n"
     ]
    }
   ],
   "source": [
    "%%timeit -r 10\n",
    "bng(\n",
    "    51.44533267, -0.32824866)"
   ]
  },
  {
   "cell_type": "markdown",
   "metadata": {},
   "source": [
    "### Simple test of average conversion speed, Rust 1.0 version"
   ]
  },
  {
   "cell_type": "code",
   "execution_count": 8,
   "metadata": {
    "collapsed": false
   },
   "outputs": [
    {
     "name": "stdout",
     "output_type": "stream",
     "text": [
      "The slowest run took 1825.23 times longer than the fastest. This could mean that an intermediate result is being cached \n",
      "1000000 loops, best of 10: 1.42 µs per loop\n"
     ]
    }
   ],
   "source": [
    "%%timeit -r 10\n",
    "rust_bng(-0.32824866, 51.44533267)"
   ]
  },
  {
   "cell_type": "code",
   "execution_count": 48,
   "metadata": {
    "collapsed": true
   },
   "outputs": [],
   "source": [
    "# UK bounding box\n",
    "N = 55.811741\n",
    "E = 1.768960\n",
    "S = 49.871159\n",
    "W = -6.379880"
   ]
  },
  {
   "cell_type": "markdown",
   "metadata": {},
   "source": [
    "### A slightly more realistic test, 100k random points within the UK"
   ]
  },
  {
   "cell_type": "code",
   "execution_count": 8,
   "metadata": {
    "collapsed": false
   },
   "outputs": [],
   "source": [
    "df = pd.DataFrame({\n",
    "        'lon': np.random.uniform(W, E, [100000]),\n",
    "        'lat': np.random.uniform(N, S, [100000])})"
   ]
  },
  {
   "cell_type": "code",
   "execution_count": 10,
   "metadata": {
    "collapsed": false
   },
   "outputs": [
    {
     "name": "stdout",
     "output_type": "stream",
     "text": [
      "1 loops, best of 10: 4.11 s per loop\n"
     ]
    }
   ],
   "source": [
    "%%timeit -r 10\n",
    "eastings_northings = df.apply(\n",
    "    lambda x: bng(x['lat'], x['lon']),\n",
    "    axis=1)"
   ]
  },
  {
   "cell_type": "code",
   "execution_count": 9,
   "metadata": {
    "collapsed": false
   },
   "outputs": [
    {
     "name": "stdout",
     "output_type": "stream",
     "text": [
      "1 loops, best of 10: 2.05 s per loop\n"
     ]
    }
   ],
   "source": [
    "%%timeit -r 10\n",
    "rust_eastings_northings = df.apply(\n",
    "    lambda x: rust_bng(c_float(x['lon']), c_float(x['lat'])),\n",
    "    axis=1)"
   ]
  },
  {
   "cell_type": "markdown",
   "metadata": {},
   "source": [
    "### So far: around a 15x improvement on the simple test, around 2x on the \"realistic\" test"
   ]
  },
  {
   "cell_type": "code",
   "execution_count": 22,
   "metadata": {
    "collapsed": false
   },
   "outputs": [],
   "source": [
    "bng = pyproj.Proj(init='epsg:27700')\n",
    "wgs84 = pyproj.Proj(init='epsg:4326')"
   ]
  },
  {
   "cell_type": "markdown",
   "metadata": {},
   "source": [
    "### Pyproj"
   ]
  },
  {
   "cell_type": "code",
   "execution_count": 5,
   "metadata": {
    "collapsed": false
   },
   "outputs": [
    {
     "name": "stdout",
     "output_type": "stream",
     "text": [
      "The slowest run took 7.25 times longer than the fastest. This could mean that an intermediate result is being cached \n",
      "100000 loops, best of 10: 8.55 µs per loop\n"
     ]
    }
   ],
   "source": [
    "%%timeit -r 10\n",
    "pyproj.transform(wgs84, bng, -0.32824866, 51.44533267)"
   ]
  },
  {
   "cell_type": "markdown",
   "metadata": {},
   "source": [
    "### Using lists instead of a DataFrame"
   ]
  },
  {
   "cell_type": "code",
   "execution_count": 49,
   "metadata": {
    "collapsed": false
   },
   "outputs": [],
   "source": [
    "lon_ls = list(np.random.uniform(W, E, [100000]))\n",
    "lat_ls = list(np.random.uniform(N, S, [100000]))"
   ]
  },
  {
   "cell_type": "code",
   "execution_count": 43,
   "metadata": {
    "collapsed": false
   },
   "outputs": [
    {
     "name": "stdout",
     "output_type": "stream",
     "text": [
      "1 loops, best of 10: 261 ms per loop\n"
     ]
    }
   ],
   "source": [
    "%%timeit -r 10\n",
    "res = [rust_bng(i, j) for i, j in zip(lon_ls, lat_ls)]"
   ]
  },
  {
   "cell_type": "code",
   "execution_count": 42,
   "metadata": {
    "collapsed": false
   },
   "outputs": [
    {
     "name": "stdout",
     "output_type": "stream",
     "text": [
      "1 loops, best of 10: 804 ms per loop\n"
     ]
    }
   ],
   "source": [
    "%%timeit -r 10\n",
    "res = [bng(i, j) for i, j in zip(lon_ls, lat_ls)]"
   ]
  },
  {
   "cell_type": "code",
   "execution_count": 23,
   "metadata": {
    "collapsed": false
   },
   "outputs": [
    {
     "name": "stdout",
     "output_type": "stream",
     "text": [
      "10 loops, best of 10: 93.5 ms per loop\n"
     ]
    }
   ],
   "source": [
    "%%timeit -r 10\n",
    "proj_res = zip(*pyproj.transform(wgs84, bng, lon_ls, lat_ls))"
   ]
  },
  {
   "cell_type": "markdown",
   "metadata": {},
   "source": [
    "### ~14x speedup over pure Python, ~3x slower than Pyproj"
   ]
  },
  {
   "cell_type": "markdown",
   "metadata": {},
   "source": [
    "### Let's use the vectorised version"
   ]
  },
  {
   "cell_type": "code",
   "execution_count": 52,
   "metadata": {
    "collapsed": false
   },
   "outputs": [
    {
     "name": "stdout",
     "output_type": "stream",
     "text": [
      "1 loops, best of 10: 194 ms per loop\n"
     ]
    }
   ],
   "source": [
    "%%timeit -r 10\n",
    "convertbng_list(lon_ls, lat_ls)"
   ]
  },
  {
   "cell_type": "code",
   "execution_count": null,
   "metadata": {
    "collapsed": true
   },
   "outputs": [],
   "source": []
  }
 ],
 "metadata": {
  "kernelspec": {
   "display_name": "Python 2",
   "language": "python",
   "name": "python2"
  },
  "language_info": {
   "codemirror_mode": {
    "name": "ipython",
    "version": 2
   },
   "file_extension": ".py",
   "mimetype": "text/x-python",
   "name": "python",
   "nbconvert_exporter": "python",
   "pygments_lexer": "ipython2",
   "version": "2.7.9"
  }
 },
 "nbformat": 4,
 "nbformat_minor": 0
}
